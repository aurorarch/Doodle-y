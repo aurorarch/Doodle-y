{
  "nbformat": 4,
  "nbformat_minor": 0,
  "metadata": {
    "colab": {
      "name": "Doodle Recognition.ipynb",
      "provenance": [],
      "toc_visible": true,
      "authorship_tag": "ABX9TyPmUyVfMsJ++yfMheYmHTfo",
      "include_colab_link": true
    },
    "kernelspec": {
      "name": "python3",
      "display_name": "Python 3"
    },
    "accelerator": "GPU"
  },
  "cells": [
    {
      "cell_type": "markdown",
      "metadata": {
        "id": "view-in-github",
        "colab_type": "text"
      },
      "source": [
        "<a href=\"https://colab.research.google.com/github/aurorarch/Doodle-y/blob/main/Doodle_Recognition.ipynb\" target=\"_parent\"><img src=\"https://colab.research.google.com/assets/colab-badge.svg\" alt=\"Open In Colab\"/></a>"
      ]
    },
    {
      "cell_type": "markdown",
      "metadata": {
        "id": "VfcVBd6PnqD1"
      },
      "source": [
        "# Download dataset from Kaggle"
      ]
    },
    {
      "cell_type": "code",
      "metadata": {
        "colab": {
          "base_uri": "https://localhost:8080/"
        },
        "id": "REaQKlqvPahu",
        "outputId": "9f60169f-fa6e-4104-db2c-bbf615968f14"
      },
      "source": [
        "from google.colab import drive\r\n",
        "drive.mount('/content/gdrive')"
      ],
      "execution_count": null,
      "outputs": [
        {
          "output_type": "stream",
          "text": [
            "Mounted at /content/gdrive\n"
          ],
          "name": "stdout"
        }
      ]
    },
    {
      "cell_type": "code",
      "metadata": {
        "colab": {
          "base_uri": "https://localhost:8080/"
        },
        "id": "PbX6wxi_PqJT",
        "outputId": "3864c158-9d24-46b1-c512-6eaf825d889d"
      },
      "source": [
        "%cd /content/gdrive/My Drive/Kaggle\r\n",
        "!pwd"
      ],
      "execution_count": null,
      "outputs": [
        {
          "output_type": "stream",
          "text": [
            "/content/gdrive/My Drive/Kaggle\n",
            "/content/gdrive/My Drive/Kaggle\n"
          ],
          "name": "stdout"
        }
      ]
    },
    {
      "cell_type": "code",
      "metadata": {
        "id": "7xR5BfI8RCo8"
      },
      "source": [
        "import os\r\n",
        "os.environ['KAGGLE_CONFIG_DIR'] = \"/content/gdrive/My Drive/Kaggle\""
      ],
      "execution_count": null,
      "outputs": []
    },
    {
      "cell_type": "code",
      "metadata": {
        "id": "wgVLaCOGP0Mj"
      },
      "source": [
        "!kaggle competitions download -c cassava-leaf-disease-classification"
      ],
      "execution_count": null,
      "outputs": []
    },
    {
      "cell_type": "markdown",
      "metadata": {
        "id": "sTCq5DpeoXyB"
      },
      "source": [
        "# From Google Cloud Storage"
      ]
    },
    {
      "cell_type": "code",
      "metadata": {
        "id": "izebfc2onxjx"
      },
      "source": [
        "from google.colab import auth\r\n",
        "auth.authenticate_user()"
      ],
      "execution_count": null,
      "outputs": []
    },
    {
      "cell_type": "code",
      "metadata": {
        "colab": {
          "base_uri": "https://localhost:8080/"
        },
        "id": "J_tRb0GVouZN",
        "outputId": "8fc43fdc-4b64-4a3f-a64b-02bfede5c6f9"
      },
      "source": [
        "!curl https://sdk.cloud.google.com | bash"
      ],
      "execution_count": null,
      "outputs": [
        {
          "output_type": "stream",
          "text": [
            
          ],
          "name": "stdout"
        }
      ]
    },
    {
      "cell_type": "code",
      "metadata": {
        "colab": {
          "base_uri": "https://localhost:8080/"
        },
        "id": "0MRL3OOTpF5v",
        "outputId": "4d719fea-6517-44dc-b3e5-c22f40f57b38"
      },
      "source": [
        "!gcloud init"
      ],
      "execution_count": null,
      "outputs": [
        {
          "output_type": "stream",
          "text": [
            "Welcome! This command will take you through the configuration of gcloud.\n",
            "\n",
            "Settings from your current configuration [default] are:\n",
            "component_manager:\n",
            "  disable_update_check: 'True'\n",
            "compute:\n",
            "  gce_metadata_read_timeout_sec: '0'\n",
            "core:\n",
            "  account: pulkit.pk7@gmail.com\n",
            "\n",
            "Pick configuration to use:\n",
            " [1] Re-initialize this configuration [default] with new settings \n",
            " [2] Create a new configuration\n",
            "Please enter your numeric choice:  1\n",
            "\n",
            "Your current configuration has been set to: [default]\n",
            "\n",
            "You can skip diagnostics next time by using the following flag:\n",
            "  gcloud init --skip-diagnostics\n",
            "\n",
            "Network diagnostic detects and fixes local network connection issues.\n",
            "Reachability Check passed.\n",
            "Network diagnostic passed (1/1 checks passed).\n",
            "\n",
            "Choose the account you would like to use to perform operations for \n",
            "this configuration:\n",
            " [1] pulkit.pk7@gmail.com\n",
            " [2] Log in with a new account\n",
            "Please enter your numeric choice:  1\n",
            "\n",
            "You are logged in as: [pulkit.pk7@gmail.com].\n",
            "\n",
            "Pick cloud project to use: \n",
            " [1] doodle-recognizer-304307\n",
            " [2] Create a new project\n",
            "Please enter numeric choice or text value (must exactly match list \n",
            "item):  1\n",
            "\n",
            "Your current project has been set to: [doodle-recognizer-304307].\n",
            "\n",
            "Not setting default zone/region (this feature makes it easier to use\n",
            "[gcloud compute] by setting an appropriate default value for the\n",
            "--zone and --region flag).\n",
            "See https://cloud.google.com/compute/docs/gcloud-compute section on how to set\n",
            "default compute region and zone manually. If you would like [gcloud init] to be\n",
            "able to do this for you the next time you run it, make sure the\n",
            "Compute Engine API is enabled for your project on the\n",
            "https://console.developers.google.com/apis page.\n",
            "\n",
            "Your Google Cloud SDK is configured and ready to use!\n",
            "\n",
            "* Commands that require authentication will use pulkit.pk7@gmail.com by default\n",
            "* Commands will reference project `doodle-recognizer-304307` by default\n",
            "Run `gcloud help config` to learn how to change individual settings\n",
            "\n",
            "This gcloud configuration is called [default]. You can create additional configurations if you work with multiple accounts and/or projects.\n",
            "Run `gcloud topic configurations` to learn more.\n",
            "\n",
            "Some things to try next:\n",
            "\n",
            "* Run `gcloud --help` to see the Cloud Platform services you can interact with. And run `gcloud help COMMAND` to get help on any gcloud command.\n",
            "* Run `gcloud topic --help` to learn about advanced features of the SDK like arg files and output formatting\n"
          ],
          "name": "stdout"
        }
      ]
    },
    {
      "cell_type": "code",
      "metadata": {
        "id": "uCWJXHdIrOP7"
      },
      "source": [
        "!mkdir data"
      ],
      "execution_count": null,
      "outputs": []
    },
    {
      "cell_type": "code",
      "metadata": {
        "colab": {
          "base_uri": "https://localhost:8080/"
        },
        "id": "xWfmPUmPrUlC",
        "outputId": "5289bfe8-c93e-44d2-e20d-7a4b768421b5"
      },
      "source": [
        "cd /content/data"
      ],
      "execution_count": null,
      "outputs": [
        {
          "output_type": "stream",
          "text": [
            "/content/data\n"
          ],
          "name": "stdout"
        }
      ]
    },
    {
      "cell_type": "code",
      "metadata": {
        "colab": {
          "base_uri": "https://localhost:8080/"
        },
        "id": "wtA2Qe4rpS8u",
        "outputId": "7f898c7e-9254-4990-ce3d-540c191fb122"
      },
      "source": [
        "!gsutil cp gs://quickdraw_dataset/full/numpy_bitmap/airplane.npy ."
      ],
      "execution_count": null,
      "outputs": [
        {
          "output_type": "stream",
          "text": [
            "Copying gs://quickdraw_dataset/full/numpy_bitmap/airplane.npy...\n",
            "\\ [1 files][113.4 MiB/113.4 MiB]                                                \n",
            "Operation completed over 1 objects/113.4 MiB.                                    \n"
          ],
          "name": "stdout"
        }
      ]
    },
    {
      "cell_type": "code",
      "metadata": {
        "colab": {
          "base_uri": "https://localhost:8080/"
        },
        "id": "KnwuZd8grXDE",
        "outputId": "a10f3da2-c249-417d-8d17-25e636ec3476"
      },
      "source": [
        "download_list = ['bicycle','bear','cake','moon','calendar','calculator','dragon','door','fan','fish','candle','lion','snowflake']\r\n",
        "\r\n",
        "for each in download_list:\r\n",
        "  link = 'gs://quickdraw_dataset/full/numpy_bitmap/'+each+'.npy'\r\n",
        "  !gsutil cp $link ."
      ],
      "execution_count": null,
      "outputs": [
        {
          "output_type": "stream",
          "text": [
            "Copying gs://quickdraw_dataset/full/numpy_bitmap/bicycle.npy...\n",
            "\\ [1 files][ 94.6 MiB/ 94.6 MiB]                                                \n",
            "Operation completed over 1 objects/94.6 MiB.                                     \n",
            "Copying gs://quickdraw_dataset/full/numpy_bitmap/bear.npy...\n",
            "\\ [1 files][100.8 MiB/100.8 MiB]                                                \n",
            "Operation completed over 1 objects/100.8 MiB.                                    \n",
            "Copying gs://quickdraw_dataset/full/numpy_bitmap/cake.npy...\n",
            "\\ [1 files][ 93.4 MiB/ 93.4 MiB]                                                \n",
            "Operation completed over 1 objects/93.4 MiB.                                     \n",
            "Copying gs://quickdraw_dataset/full/numpy_bitmap/moon.npy...\n",
            "\\ [1 files][ 91.0 MiB/ 91.0 MiB]                                                \n",
            "Operation completed over 1 objects/91.0 MiB.                                     \n",
            "Copying gs://quickdraw_dataset/full/numpy_bitmap/calendar.npy...\n",
            "- [1 files][240.7 MiB/240.7 MiB]                                                \n",
            "Operation completed over 1 objects/240.7 MiB.                                    \n",
            "Copying gs://quickdraw_dataset/full/numpy_bitmap/calculator.npy...\n",
            "\\ [1 files][ 96.0 MiB/ 96.0 MiB]                                                \n",
            "Operation completed over 1 objects/96.0 MiB.                                     \n",
            "Copying gs://quickdraw_dataset/full/numpy_bitmap/dragon.npy...\n",
            "\\ [1 files][ 93.0 MiB/ 93.0 MiB]                                                \n",
            "Operation completed over 1 objects/93.0 MiB.                                     \n",
            "Copying gs://quickdraw_dataset/full/numpy_bitmap/door.npy...\n",
            "\\ [1 files][ 89.9 MiB/ 89.9 MiB]                                                \n",
            "Operation completed over 1 objects/89.9 MiB.                                     \n",
            "Copying gs://quickdraw_dataset/full/numpy_bitmap/fan.npy...\n",
            "\\ [1 files][101.8 MiB/101.8 MiB]                                                \n",
            "Operation completed over 1 objects/101.8 MiB.                                    \n",
            "Copying gs://quickdraw_dataset/full/numpy_bitmap/fish.npy...\n",
            "| [1 files][100.3 MiB/100.3 MiB]                                                \n",
            "Operation completed over 1 objects/100.3 MiB.                                    \n",
            "Copying gs://quickdraw_dataset/full/numpy_bitmap/candle.npy...\n",
            "\\ [1 files][105.8 MiB/105.8 MiB]                                                \n",
            "Operation completed over 1 objects/105.8 MiB.                                    \n",
            "Copying gs://quickdraw_dataset/full/numpy_bitmap/lion.npy...\n",
            "\\ [1 files][ 90.4 MiB/ 90.4 MiB]                                                \n",
            "Operation completed over 1 objects/90.4 MiB.                                     \n",
            "Copying gs://quickdraw_dataset/full/numpy_bitmap/snowflake.npy...\n",
            "\\ [1 files][ 87.2 MiB/ 87.2 MiB]                                                \n",
            "Operation completed over 1 objects/87.2 MiB.                                     \n"
          ],
          "name": "stdout"
        }
      ]
    },
    {
      "cell_type": "code",
      "metadata": {
        "colab": {
          "base_uri": "https://localhost:8080/"
        },
        "id": "5UwWteLROVyp",
        "outputId": "99154091-723a-4a8c-dbcc-1ea40e176e8e"
      },
      "source": [
        "!pwd"
      ],
      "execution_count": null,
      "outputs": [
        {
          "output_type": "stream",
          "text": [
            "/content/data\n"
          ],
          "name": "stdout"
        }
      ]
    },
    {
      "cell_type": "code",
      "metadata": {
        "id": "vz27CLKyOWdy"
      },
      "source": [
        "import numpy as np\r\n",
        "import cv2\r\n",
        "import matplotlib.pyplot as plt\r\n",
        "\r\n",
        "%matplotlib inline"
      ],
      "execution_count": null,
      "outputs": []
    },
    {
      "cell_type": "code",
      "metadata": {
        "colab": {
          "base_uri": "https://localhost:8080/"
        },
        "id": "hvP_p0DGPN9c",
        "outputId": "98809ace-9855-41e1-d702-1ced92b5d65d"
      },
      "source": [
        "data = np.load('calculator.npy')\r\n",
        "data.shape"
      ],
      "execution_count": null,
      "outputs": [
        {
          "output_type": "execute_result",
          "data": {
            "text/plain": [
              "(128375, 784)"
            ]
          },
          "metadata": {
            "tags": []
          },
          "execution_count": 10
        }
      ]
    },
    {
      "cell_type": "code",
      "metadata": {
        "id": "DG9KmRPfP8y4"
      },
      "source": [
        "x=data[88].reshape(28,28)"
      ],
      "execution_count": null,
      "outputs": []
    },
    {
      "cell_type": "code",
      "metadata": {
        "colab": {
          "base_uri": "https://localhost:8080/",
          "height": 282
        },
        "id": "1uUlgSTYPZJn",
        "outputId": "60d4a390-52e3-46d5-87e1-59dd2c358158"
      },
      "source": [
        "plt.imshow(x)"
      ],
      "execution_count": null,
      "outputs": [
        {
          "output_type": "execute_result",
          "data": {
            "text/plain": [
              "<matplotlib.image.AxesImage at 0x7f0ad6f37278>"
            ]
          },
          "metadata": {
            "tags": []
          },
          "execution_count": 12
        },
        {
          "output_type": "display_data",
          "data": {
            "image/png": "[encoded data removed]",
            "text/plain": [
              "<Figure size 432x288 with 1 Axes>"
            ]
          },
          "metadata": {
            "tags": [],
            "needs_background": "light"
          }
        }
      ]
    },
    {
      "cell_type": "code",
      "metadata": {
        "id": "pE9VzhfSPxir"
      },
      "source": [
        "import os\r\n",
        "\r\n",
        "count=0\r\n",
        "train_data = []\r\n",
        "label_list = ['airplane','bicycle','bear','cake','moon','calendar','calculator','dragon','door','fan','fish','candle','lion','snowflake']\r\n",
        "\r\n",
        "for each in os.listdir():\r\n",
        "  df = np.load(each)\r\n",
        "  label_name = each.split('.')[0]\r\n",
        "\r\n",
        "  for i in range(df.shape[0]):\r\n",
        "    try:\r\n",
        "      resized_array = df[i].reshape(28,28)\r\n",
        "      class_name = label_list.index(label_name)\r\n",
        "      train_data.append([resized_array,class_name])\r\n",
        "      count += 1\r\n",
        "    except Exception as e:\r\n",
        "      pass"
      ],
      "execution_count": null,
      "outputs": []
    },
    {
      "cell_type": "code",
      "metadata": {
        "colab": {
          "base_uri": "https://localhost:8080/"
        },
        "id": "PEEifwDNVycq",
        "outputId": "437c53c1-16f8-4843-db9e-0510c84c47cf"
      },
      "source": [
        "count"
      ],
      "execution_count": null,
      "outputs": [
        {
          "output_type": "execute_result",
          "data": {
            "text/plain": [
              "2003913"
            ]
          },
          "metadata": {
            "tags": []
          },
          "execution_count": 14
        }
      ]
    },
    {
      "cell_type": "code",
      "metadata": {
        "colab": {
          "base_uri": "https://localhost:8080/"
        },
        "id": "u8VlChcBVDH2",
        "outputId": "c9579a67-9848-4b1d-fc48-8ca8ab78db46"
      },
      "source": [
        "np.shape(train_data)"
      ],
      "execution_count": null,
      "outputs": [
        {
          "output_type": "stream",
          "text": [
            "/usr/local/lib/python3.6/dist-packages/numpy/core/_asarray.py:83: VisibleDeprecationWarning: Creating an ndarray from ragged nested sequences (which is a list-or-tuple of lists-or-tuples-or ndarrays with different lengths or shapes) is deprecated. If you meant to do this, you must specify 'dtype=object' when creating the ndarray\n",
            "  return array(a, dtype, copy=False, order=order)\n"
          ],
          "name": "stderr"
        },
        {
          "output_type": "execute_result",
          "data": {
            "text/plain": [
              "(2003913, 2)"
            ]
          },
          "metadata": {
            "tags": []
          },
          "execution_count": 15
        }
      ]
    },
    {
      "cell_type": "code",
      "metadata": {
        "colab": {
          "base_uri": "https://localhost:8080/",
          "height": 282
        },
        "id": "_f8XjtdhVOJW",
        "outputId": "00eedede-2cee-45a4-accc-3c5efba07a1e"
      },
      "source": [
        "plt.imshow(train_data[16542][0])\r\n",
        "print(label_list[train_data[16542][1]])"
      ],
      "execution_count": null,
      "outputs": [
        {
          "output_type": "stream",
          "text": [
            "calendar\n"
          ],
          "name": "stdout"
        },
        {
          "output_type": "display_data",
          "data": {
            "image/png": "[encoded data removed]",
            "text/plain": [
              "<Figure size 432x288 with 1 Axes>"
            ]
          },
          "metadata": {
            "tags": [],
            "needs_background": "light"
          }
        }
      ]
    },
    {
      "cell_type": "code",
      "metadata": {
        "id": "WjAkf3WjXvd7"
      },
      "source": [
        "import random\r\n",
        "\r\n",
        "random.shuffle(train_data)"
      ],
      "execution_count": null,
      "outputs": []
    },
    {
      "cell_type": "code",
      "metadata": {
        "colab": {
          "base_uri": "https://localhost:8080/"
        },
        "id": "Ur4TU1qeUYuc",
        "outputId": "3c2ab323-6ca3-43af-d9ac-3077b1519f92"
      },
      "source": [
        "X = []\r\n",
        "y = []\r\n",
        "\r\n",
        "for features, labels in train_data:\r\n",
        "  X.append(features)\r\n",
        "  y.append(labels)\r\n",
        "\r\n",
        "print(len(X))\r\n",
        "print(len(y))"
      ],
      "execution_count": null,
      "outputs": [
        {
          "output_type": "stream",
          "text": [
            "2003913\n",
            "2003913\n"
          ],
          "name": "stdout"
        }
      ]
    },
    {
      "cell_type": "code",
      "metadata": {
        "id": "YcKV_QFWVESm"
      },
      "source": [
        "from sklearn.model_selection import train_test_split\r\n",
        "\r\n",
        "train_x, test_x, train_y, test_y = train_test_split(X, y, random_state=0, test_size=0.1)\r\n",
        "train_x, val_x, train_y, val_y = train_test_split(train_x, train_y, random_state=0, test_size=0.2)"
      ],
      "execution_count": null,
      "outputs": []
    },
    {
      "cell_type": "code",
      "metadata": {
        "colab": {
          "base_uri": "https://localhost:8080/"
        },
        "id": "ceZRdLq9VSuY",
        "outputId": "5f1edf2f-5fc8-4279-f486-401e9d9fce78"
      },
      "source": [
        "print(len(train_x))\r\n",
        "print(len(train_y))\r\n",
        "print(len(val_x))\r\n",
        "print(len(val_y))\r\n",
        "print(len(test_x))\r\n",
        "print(len(test_y))"
      ],
      "execution_count": null,
      "outputs": [
        {
          "output_type": "stream",
          "text": [
            "1442816\n",
            "1442816\n",
            "360705\n",
            "360705\n",
            "200392\n",
            "200392\n"
          ],
          "name": "stdout"
        }
      ]
    },
    {
      "cell_type": "code",
      "metadata": {
        "colab": {
          "base_uri": "https://localhost:8080/"
        },
        "id": "puWHsG_VWQE2",
        "outputId": "06a093e8-7b62-4995-bd53-51f1d5ee9c76"
      },
      "source": [
        "type(train_x)"
      ],
      "execution_count": null,
      "outputs": [
        {
          "output_type": "execute_result",
          "data": {
            "text/plain": [
              "list"
            ]
          },
          "metadata": {
            "tags": []
          },
          "execution_count": 21
        }
      ]
    },
    {
      "cell_type": "code",
      "metadata": {
        "id": "q2Em-nDLWDyJ"
      },
      "source": [
        "train_x = np.reshape(train_x, (len(train_x), 28, 28, 1))\r\n",
        "val_x = np.reshape(val_x, (len(val_x), 28, 28, 1))\r\n",
        "test_x = np.reshape(test_x, (len(test_x), 28, 28, 1))"
      ],
      "execution_count": null,
      "outputs": []
    },
    {
      "cell_type": "code",
      "metadata": {
        "id": "u3PTAveQXH0t"
      },
      "source": [
        "train_y = np.asarray(train_y, dtype=np.int32)\r\n",
        "val_y = np.asarray(val_y, dtype=np.int32)\r\n",
        "test_y = np.asarray(test_y, dtype=np.int32)"
      ],
      "execution_count": null,
      "outputs": []
    },
    {
      "cell_type": "code",
      "metadata": {
        "colab": {
          "base_uri": "https://localhost:8080/"
        },
        "id": "3mZP_thFW2uO",
        "outputId": "a4599914-224c-43a4-964f-d25c54270b15"
      },
      "source": [
        "print(train_x.shape)\r\n",
        "print(train_y.shape)\r\n",
        "print(val_x.shape)\r\n",
        "print(val_y.shape)\r\n",
        "print(test_x.shape)\r\n",
        "print(test_y.shape)"
      ],
      "execution_count": null,
      "outputs": [
        {
          "output_type": "stream",
          "text": [
            "(1442816, 28, 28, 1)\n",
            "(1442816,)\n",
            "(360705, 28, 28, 1)\n",
            "(360705,)\n",
            "(200392, 28, 28, 1)\n",
            "(200392,)\n"
          ],
          "name": "stdout"
        }
      ]
    },
    {
      "cell_type": "code",
      "metadata": {
        "id": "CsMRmCefVgKy"
      },
      "source": [
        "from keras.layers import Dense,Flatten, Conv2D\r\n",
        "from keras.layers import MaxPooling2D, Dropout\r\n",
        "from keras.models import Sequential\r\n",
        "from keras.callbacks import ModelCheckpoint\r\n",
        "\r\n",
        "num_of_classes = 14\r\n",
        "model = Sequential()\r\n",
        "model.add(Conv2D(32, (3, 3), input_shape=(28,28,1), activation='relu'))\r\n",
        "model.add(MaxPooling2D(pool_size=(2, 2), strides=(2, 2), padding='same'))\r\n",
        "model.add(Conv2D(64, (3, 3), activation='relu'))\r\n",
        "model.add(MaxPooling2D(pool_size=(2, 2), strides=(2, 2), padding='same'))\r\n",
        "model.add(Conv2D(64, (3, 3), activation='relu'))\r\n",
        "model.add(MaxPooling2D(pool_size=(2, 2), strides=(2, 2), padding='same'))\r\n",
        "\r\n",
        "model.add(Flatten())\r\n",
        "model.add(Dense(512, activation='relu'))\r\n",
        "model.add(Dropout(0.6))\r\n",
        "model.add(Dense(128, activation='relu'))\r\n",
        "model.add(Dropout(0.6))\r\n",
        "model.add(Dense(num_of_classes, activation='softmax'))\r\n",
        "\r\n",
        "model.compile(loss='sparse_categorical_crossentropy', optimizer='adam', metrics=['accuracy'])\r\n",
        "\r\n",
        "filepath=\"weights-improvement-{epoch:02d}-{val_accuracy:.2f}.hdf5\"\r\n",
        "checkpoint = ModelCheckpoint(filepath, monitor='val_accuracy', verbose=1, save_best_only=True, mode='max')\r\n",
        "callbacks_list = [checkpoint]"
      ],
      "execution_count": null,
      "outputs": []
    },
    {
      "cell_type": "code",
      "metadata": {
        "colab": {
          "base_uri": "https://localhost:8080/"
        },
        "id": "rmdw4go3X99i",
        "outputId": "010b2d65-c530-4d2c-b626-321adf3f2856"
      },
      "source": [
        "hist = model.fit(train_x, train_y, validation_data=(val_x, val_y), epochs=5, batch_size=64, callbacks=callbacks_list)"
      ],
      "execution_count": null,
      "outputs": [
        {
          "output_type": "stream",
          "text": [
            "Epoch 1/5\n",
            "22544/22544 [==============================] - 77s 3ms/step - loss: 0.8873 - accuracy: 0.7484 - val_loss: 0.3712 - val_accuracy: 0.8891\n",
            "\n",
            "Epoch 00001: val_accuracy improved from -inf to 0.88909, saving model to weights-improvement-01-0.89.hdf5\n",
            "Epoch 2/5\n",
            "22544/22544 [==============================] - 68s 3ms/step - loss: 0.4520 - accuracy: 0.8738 - val_loss: 0.3745 - val_accuracy: 0.8894\n",
            "\n",
            "Epoch 00002: val_accuracy improved from 0.88909 to 0.88938, saving model to weights-improvement-02-0.89.hdf5\n",
            "Epoch 3/5\n",
            "22544/22544 [==============================] - 69s 3ms/step - loss: 0.4415 - accuracy: 0.8779 - val_loss: 0.3580 - val_accuracy: 0.8948\n",
            "\n",
            "Epoch 00003: val_accuracy improved from 0.88938 to 0.89483, saving model to weights-improvement-03-0.89.hdf5\n",
            "Epoch 4/5\n",
            "22544/22544 [==============================] - 68s 3ms/step - loss: 0.4387 - accuracy: 0.8791 - val_loss: 0.3483 - val_accuracy: 0.8975\n",
            "\n",
            "Epoch 00004: val_accuracy improved from 0.89483 to 0.89745, saving model to weights-improvement-04-0.90.hdf5\n",
            "Epoch 5/5\n",
            "22544/22544 [==============================] - 68s 3ms/step - loss: 0.4340 - accuracy: 0.8802 - val_loss: 0.3516 - val_accuracy: 0.8970\n",
            "\n",
            "Epoch 00005: val_accuracy did not improve from 0.89745\n"
          ],
          "name": "stdout"
        }
      ]
    },
    {
      "cell_type": "code",
      "metadata": {
        "colab": {
          "base_uri": "https://localhost:8080/",
          "height": 265
        },
        "id": "uBufeoMPYkQK",
        "outputId": "1b1c5c10-7445-493e-a190-ae5a4096dfc6"
      },
      "source": [
        "plt.plot(hist.history['accuracy'], label='train accuracy')\r\n",
        "plt.plot(hist.history['val_accuracy'], label='val accuracy')\r\n",
        "plt.plot(hist.history['loss'], label='train loss')\r\n",
        "plt.plot(hist.history['val_loss'], label='val loss')\r\n",
        "plt.legend()\r\n",
        "plt.show()"
      ],
      "execution_count": null,
      "outputs": [
        {
          "output_type": "display_data",
          "data": {
            "image/png": "[encoded data removed]",
            "text/plain": [
              "<Figure size 432x288 with 1 Axes>"
            ]
          },
          "metadata": {
            "tags": [],
            "needs_background": "light"
          }
        }
      ]
    },
    {
      "cell_type": "code",
      "metadata": {
        "colab": {
          "base_uri": "https://localhost:8080/"
        },
        "id": "IupwXajjjKf-",
        "outputId": "87e16efd-d91c-44ac-f450-88ddc87aab4e"
      },
      "source": [
        "results = model.evaluate(test_x, test_y, batch_size=128)\r\n",
        "results"
      ],
      "execution_count": null,
      "outputs": [
        {
          "output_type": "stream",
          "text": [
            "1566/1566 [==============================] - 4s 2ms/step - loss: 0.3494 - accuracy: 0.8988\n"
          ],
          "name": "stdout"
        },
        {
          "output_type": "execute_result",
          "data": {
            "text/plain": [
              "[0.34943172335624695, 0.8988282680511475]"
            ]
          },
          "metadata": {
            "tags": []
          },
          "execution_count": 28
        }
      ]
    },
    {
      "cell_type": "code",
      "metadata": {
        "id": "2E5YA-WFQn1M"
      },
      "source": [
        "model.save('QuickDraw.h5')"
      ],
      "execution_count": null,
      "outputs": []
    },
    {
      "cell_type": "code",
      "metadata": {
        "id": "D-bXIxcJPT50"
      },
      "source": [
        "!mkdir test"
      ],
      "execution_count": null,
      "outputs": []
    },
    {
      "cell_type": "code",
      "metadata": {
        "colab": {
          "base_uri": "https://localhost:8080/"
        },
        "id": "1_lvipYTPWf8",
        "outputId": "b77596cf-c262-4715-8ba7-5e3b3f7d52c8"
      },
      "source": [
        "cd test"
      ],
      "execution_count": null,
      "outputs": [
        {
          "output_type": "stream",
          "text": [
            "/content/data/test\n"
          ],
          "name": "stdout"
        }
      ]
    },
    {
      "cell_type": "code",
      "metadata": {
        "colab": {
          "base_uri": "https://localhost:8080/"
        },
        "id": "-LKJKKgPf5vu",
        "outputId": "b2b8cce6-b6c9-4a41-a281-cf778e13cc33"
      },
      "source": [
        "!wget \"https://i.pinimg.com/originals/71/21/aa/7121aa96a9829e67afa53b8271b9ac57.jpg\""
      ],
      "execution_count": null,
      "outputs": [
        {
          "output_type": "stream",
          "text": [
            "--2021-02-19 07:43:17--  https://i.pinimg.com/originals/71/21/aa/7121aa96a9829e67afa53b8271b9ac57.jpg\n",
            "Resolving i.pinimg.com (i.pinimg.com)... 151.101.40.84, 2600:1409:12:3ae::1931, 2600:1409:12:382::1931, ...\n",
            "Connecting to i.pinimg.com (i.pinimg.com)|151.101.40.84|:443... connected.\n",
            "HTTP request sent, awaiting response... 200 OK\n",
            "Length: 12366 (12K) [image/jpeg]\n",
            "Saving to: ‘7121aa96a9829e67afa53b8271b9ac57.jpg’\n",
            "\n",
            "7121aa96a9829e67afa 100%[===================>]  12.08K  --.-KB/s    in 0.001s  \n",
            "\n",
            "2021-02-19 07:43:17 (16.4 MB/s) - ‘7121aa96a9829e67afa53b8271b9ac57.jpg’ saved [12366/12366]\n",
            "\n"
          ],
          "name": "stdout"
        }
      ]
    },
    {
      "cell_type": "code",
      "metadata": {
        "id": "vcRTYR5KgRBA"
      },
      "source": [
        "def preprocess(image):\r\n",
        "  image_x=28\r\n",
        "  image_y=28\r\n",
        "  img = cv2.imread(image)\r\n",
        "  img = cv2.cvtColor(img, cv2.COLOR_BGR2GRAY)\r\n",
        "  img = cv2.resize(img, (image_x, image_y))\r\n",
        "  img = np.array(img, dtype=np.float32)\r\n",
        "  img = np.reshape(img, (-1, image_x, image_y, 1))\r\n",
        "  print(img.shape)\r\n",
        "  return img"
      ],
      "execution_count": null,
      "outputs": []
    },
    {
      "cell_type": "code",
      "metadata": {
        "colab": {
          "base_uri": "https://localhost:8080/"
        },
        "id": "3L7kvw5cPOgs",
        "outputId": "093996c3-fa90-4aea-d6ae-f9fd55204ede"
      },
      "source": [
        "test_image = preprocess(\"/content/data/test/7121aa96a9829e67afa53b8271b9ac57.jpg\")"
      ],
      "execution_count": null,
      "outputs": [
        {
          "output_type": "stream",
          "text": [
            "(1, 28, 28, 1)\n"
          ],
          "name": "stdout"
        }
      ]
    },
    {
      "cell_type": "code",
      "metadata": {
        "id": "PDyhUYAEgjed"
      },
      "source": [
        "def pred(img):\r\n",
        "  print(\"processed: \" + str(img.shape))\r\n",
        "  pred_probab = model.predict(img)[0]\r\n",
        "  pred_class = list(pred_probab).index(max(pred_probab))\r\n",
        "  print(label_list[pred_class])"
      ],
      "execution_count": null,
      "outputs": []
    },
    {
      "cell_type": "code",
      "metadata": {
        "colab": {
          "base_uri": "https://localhost:8080/"
        },
        "id": "DIjBc-V7PPTc",
        "outputId": "a2f72753-1e6f-454a-a3a8-5e43fbe5e666"
      },
      "source": [
        "pred(test_image)"
      ],
      "execution_count": null,
      "outputs": [
        {
          "output_type": "stream",
          "text": [
            "processed: (1, 28, 28, 1)\n",
            "calendar\n"
          ],
          "name": "stdout"
        }
      ]
    },
    {
      "cell_type": "code",
      "metadata": {
        "colab": {
          "base_uri": "https://localhost:8080/",
          "height": 282
        },
        "id": "LXQhstVwh8bj",
        "outputId": "3565edc6-932f-40b7-b0d3-7cddac7f2768"
      },
      "source": [
        "plt.imshow(test_image.reshape(28,28))"
      ],
      "execution_count": null,
      "outputs": [
        {
          "output_type": "execute_result",
          "data": {
            "text/plain": [
              "<matplotlib.image.AxesImage at 0x7f0a234a7080>"
            ]
          },
          "metadata": {
            "tags": []
          },
          "execution_count": 38
        },
        {
          "output_type": "display_data",
          "data": {
            "image/png": "[encoded data removed]",
            "text/plain": [
              "<Figure size 432x288 with 1 Axes>"
            ]
          },
          "metadata": {
            "tags": [],
            "needs_background": "light"
          }
        }
      ]
    },
    {
      "cell_type": "code",
      "metadata": {
        "colab": {
          "base_uri": "https://localhost:8080/"
        },
        "id": "MqiNnFO-lpLn",
        "outputId": "188719bf-0d7a-466f-bb36-7c7c1f004256"
      },
      "source": [
        "np.shape(test_x[3])"
      ],
      "execution_count": null,
      "outputs": [
        {
          "output_type": "execute_result",
          "data": {
            "text/plain": [
              "(28, 28, 1)"
            ]
          },
          "metadata": {
            "tags": []
          },
          "execution_count": 42
        }
      ]
    },
    {
      "cell_type": "code",
      "metadata": {
        "id": "-KBcWg0-iMQo",
        "colab": {
          "base_uri": "https://localhost:8080/",
          "height": 300
        },
        "outputId": "ebef3d04-d318-4343-9461-467daaf72ff6"
      },
      "source": [
        "x = test_x[113135]\r\n",
        "y = test_y[113135]\r\n",
        "print(label_list[int(y)])\r\n",
        "x = np.reshape(x,(-1,28,28,1))\r\n",
        "plt.imshow(x.reshape(28,28))\r\n",
        "\r\n",
        "pred_probab = model.predict(x)[0]\r\n",
        "pred_class = list(pred_probab).index(max(pred_probab))\r\n",
        "\r\n",
        "label_list[pred_class]"
      ],
      "execution_count": null,
      "outputs": [
        {
          "output_type": "stream",
          "text": [
            "bicycle\n"
          ],
          "name": "stdout"
        },
        {
          "output_type": "execute_result",
          "data": {
            "application/vnd.google.colaboratory.intrinsic+json": {
              "type": "string"
            },
            "text/plain": [
              "'bicycle'"
            ]
          },
          "metadata": {
            "tags": []
          },
          "execution_count": 43
        },
        {
          "output_type": "display_data",
          "data": {
            "image/png": "[encoded data removed]",
            "text/plain": [
              "<Figure size 432x288 with 1 Axes>"
            ]
          },
          "metadata": {
            "tags": [],
            "needs_background": "light"
          }
        }
      ]
    },
    {
      "cell_type": "code",
      "metadata": {
        "id": "UVpilSSzlYBD"
      },
      "source": [
        ""
      ],
      "execution_count": null,
      "outputs": []
    }
  ]
}
